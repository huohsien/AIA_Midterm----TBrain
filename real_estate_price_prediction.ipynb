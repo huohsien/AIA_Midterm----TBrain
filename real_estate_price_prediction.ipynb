{
 "cells": [
  {
   "cell_type": "markdown",
   "metadata": {},
   "source": [
    "# Midterm E. Sun Bank real estate price prediciton competition"
   ]
  },
  {
   "cell_type": "code",
   "execution_count": 1,
   "metadata": {},
   "outputs": [],
   "source": [
    "import pandas as pd\n",
    "import numpy as np\n",
    "import matplotlib.pyplot as plt\n",
    "import matplotlib as mpl\n",
    "from sklearn.model_selection import RandomizedSearchCV,GridSearchCV\n",
    "\n",
    "%matplotlib inline\n",
    "\n",
    "# set facecolor to white for showing tick labels in dark theme mode\n",
    "# context = plt.rc_context({'axes.edgecolor':'black', 'xtick.color':'black', 'ytick.color':'black', 'figure.facecolor':'white'})\n",
    "# mpl.rcParams['figure.facecolor'] = 'w'"
   ]
  },
  {
   "cell_type": "code",
   "execution_count": 2,
   "metadata": {},
   "outputs": [],
   "source": [
    "valid_ratio = 0.1"
   ]
  },
  {
   "cell_type": "code",
   "execution_count": 3,
   "metadata": {},
   "outputs": [],
   "source": [
    "train = pd.read_csv('train.csv')\n",
    "test = pd.read_csv('test.csv')"
   ]
  },
  {
   "cell_type": "code",
   "execution_count": 4,
   "metadata": {},
   "outputs": [],
   "source": [
    "# remove outliers in the target variable\n",
    "price_lim = 1e9\n",
    "area_lim = 1000\n",
    "\n",
    "train = train.loc[(train['total_price'] < price_lim) & (train['building_area'] < area_lim)]"
   ]
  },
  {
   "cell_type": "code",
   "execution_count": 5,
   "metadata": {},
   "outputs": [],
   "source": [
    "#log transform the target:\n",
    "train[\"total_price\"] = np.log1p(train[\"total_price\"])"
   ]
  },
  {
   "cell_type": "code",
   "execution_count": 6,
   "metadata": {},
   "outputs": [],
   "source": [
    "all_data = pd.concat((train.loc[:,'building_material':'village'],\n",
    "                      test.loc[:,'building_material':'village']))"
   ]
  },
  {
   "cell_type": "code",
   "execution_count": 7,
   "metadata": {},
   "outputs": [],
   "source": [
    "#log transform 'building_area' and 'land_area'\n",
    "all_data[\"building_area\"] = np.log1p(all_data[\"building_area\"])\n",
    "all_data[\"land_area\"] = np.log1p(all_data[\"land_area\"])"
   ]
  },
  {
   "cell_type": "code",
   "execution_count": 8,
   "metadata": {},
   "outputs": [],
   "source": [
    "# maybe should ignore these two columns\n",
    "all_data['parking_area'].fillna(0, inplace=True) # will be dropp\n",
    "all_data['parking_price'].fillna(0, inplace=True)"
   ]
  },
  {
   "cell_type": "code",
   "execution_count": 9,
   "metadata": {},
   "outputs": [],
   "source": [
    "# fill the missing value in column 'txn_floor' with the mode of the column\n",
    "all_data['txn_floor'].fillna(all_data['txn_floor'].mode()[0], inplace=True)"
   ]
  },
  {
   "cell_type": "code",
   "execution_count": 10,
   "metadata": {},
   "outputs": [
    {
     "data": {
      "text/html": [
       "<div>\n",
       "<style scoped>\n",
       "    .dataframe tbody tr th:only-of-type {\n",
       "        vertical-align: middle;\n",
       "    }\n",
       "\n",
       "    .dataframe tbody tr th {\n",
       "        vertical-align: top;\n",
       "    }\n",
       "\n",
       "    .dataframe thead th {\n",
       "        text-align: right;\n",
       "    }\n",
       "</style>\n",
       "<table border=\"1\" class=\"dataframe\">\n",
       "  <thead>\n",
       "    <tr style=\"text-align: right;\">\n",
       "      <th></th>\n",
       "      <th>building_material</th>\n",
       "      <th>city</th>\n",
       "      <th>txn_dt</th>\n",
       "      <th>total_floor</th>\n",
       "      <th>building_type</th>\n",
       "      <th>building_use</th>\n",
       "      <th>building_complete_dt</th>\n",
       "      <th>parking_way</th>\n",
       "      <th>parking_area</th>\n",
       "      <th>parking_price</th>\n",
       "      <th>...</th>\n",
       "      <th>bachelor_rate</th>\n",
       "      <th>jobschool_rate</th>\n",
       "      <th>highschool_rate</th>\n",
       "      <th>junior_rate</th>\n",
       "      <th>elementary_rate</th>\n",
       "      <th>born_rate</th>\n",
       "      <th>death_rate</th>\n",
       "      <th>marriage_rate</th>\n",
       "      <th>divorce_rate</th>\n",
       "      <th>village</th>\n",
       "    </tr>\n",
       "  </thead>\n",
       "  <tbody>\n",
       "    <tr>\n",
       "      <th>0</th>\n",
       "      <td>8</td>\n",
       "      <td>21</td>\n",
       "      <td>18674</td>\n",
       "      <td>4</td>\n",
       "      <td>3</td>\n",
       "      <td>2</td>\n",
       "      <td>6271</td>\n",
       "      <td>2</td>\n",
       "      <td>0.0</td>\n",
       "      <td>0.000000</td>\n",
       "      <td>...</td>\n",
       "      <td>0.208219</td>\n",
       "      <td>0.102360</td>\n",
       "      <td>0.327584</td>\n",
       "      <td>0.166931</td>\n",
       "      <td>0.143015</td>\n",
       "      <td>7.37</td>\n",
       "      <td>7.72</td>\n",
       "      <td>5.74</td>\n",
       "      <td>2.39</td>\n",
       "      <td>3132</td>\n",
       "    </tr>\n",
       "    <tr>\n",
       "      <th>1</th>\n",
       "      <td>8</td>\n",
       "      <td>7</td>\n",
       "      <td>18800</td>\n",
       "      <td>5</td>\n",
       "      <td>1</td>\n",
       "      <td>2</td>\n",
       "      <td>7885</td>\n",
       "      <td>2</td>\n",
       "      <td>0.0</td>\n",
       "      <td>0.000000</td>\n",
       "      <td>...</td>\n",
       "      <td>0.216042</td>\n",
       "      <td>0.106792</td>\n",
       "      <td>0.310975</td>\n",
       "      <td>0.195193</td>\n",
       "      <td>0.118700</td>\n",
       "      <td>7.94</td>\n",
       "      <td>5.93</td>\n",
       "      <td>6.11</td>\n",
       "      <td>2.50</td>\n",
       "      <td>921</td>\n",
       "    </tr>\n",
       "    <tr>\n",
       "      <th>2</th>\n",
       "      <td>8</td>\n",
       "      <td>7</td>\n",
       "      <td>19289</td>\n",
       "      <td>4</td>\n",
       "      <td>1</td>\n",
       "      <td>2</td>\n",
       "      <td>6028</td>\n",
       "      <td>2</td>\n",
       "      <td>0.0</td>\n",
       "      <td>0.000000</td>\n",
       "      <td>...</td>\n",
       "      <td>0.216042</td>\n",
       "      <td>0.106792</td>\n",
       "      <td>0.310975</td>\n",
       "      <td>0.195193</td>\n",
       "      <td>0.118700</td>\n",
       "      <td>7.94</td>\n",
       "      <td>5.93</td>\n",
       "      <td>6.11</td>\n",
       "      <td>2.50</td>\n",
       "      <td>1544</td>\n",
       "    </tr>\n",
       "    <tr>\n",
       "      <th>3</th>\n",
       "      <td>8</td>\n",
       "      <td>21</td>\n",
       "      <td>20385</td>\n",
       "      <td>24</td>\n",
       "      <td>0</td>\n",
       "      <td>2</td>\n",
       "      <td>18325</td>\n",
       "      <td>0</td>\n",
       "      <td>0.0</td>\n",
       "      <td>81138.889762</td>\n",
       "      <td>...</td>\n",
       "      <td>0.208219</td>\n",
       "      <td>0.102360</td>\n",
       "      <td>0.327584</td>\n",
       "      <td>0.166931</td>\n",
       "      <td>0.143015</td>\n",
       "      <td>7.37</td>\n",
       "      <td>7.72</td>\n",
       "      <td>5.74</td>\n",
       "      <td>2.39</td>\n",
       "      <td>3350</td>\n",
       "    </tr>\n",
       "    <tr>\n",
       "      <th>4</th>\n",
       "      <td>1</td>\n",
       "      <td>21</td>\n",
       "      <td>20657</td>\n",
       "      <td>2</td>\n",
       "      <td>4</td>\n",
       "      <td>2</td>\n",
       "      <td>6880</td>\n",
       "      <td>2</td>\n",
       "      <td>0.0</td>\n",
       "      <td>0.000000</td>\n",
       "      <td>...</td>\n",
       "      <td>0.208219</td>\n",
       "      <td>0.102360</td>\n",
       "      <td>0.327584</td>\n",
       "      <td>0.166931</td>\n",
       "      <td>0.143015</td>\n",
       "      <td>7.37</td>\n",
       "      <td>7.72</td>\n",
       "      <td>5.74</td>\n",
       "      <td>2.39</td>\n",
       "      <td>63</td>\n",
       "    </tr>\n",
       "  </tbody>\n",
       "</table>\n",
       "<p>5 rows × 32 columns</p>\n",
       "</div>"
      ],
      "text/plain": [
       "   building_material  city  txn_dt  total_floor  building_type  building_use  \\\n",
       "0                  8    21   18674            4              3             2   \n",
       "1                  8     7   18800            5              1             2   \n",
       "2                  8     7   19289            4              1             2   \n",
       "3                  8    21   20385           24              0             2   \n",
       "4                  1    21   20657            2              4             2   \n",
       "\n",
       "   building_complete_dt  parking_way  parking_area  parking_price   ...     \\\n",
       "0                  6271            2           0.0       0.000000   ...      \n",
       "1                  7885            2           0.0       0.000000   ...      \n",
       "2                  6028            2           0.0       0.000000   ...      \n",
       "3                 18325            0           0.0   81138.889762   ...      \n",
       "4                  6880            2           0.0       0.000000   ...      \n",
       "\n",
       "   bachelor_rate  jobschool_rate  highschool_rate  junior_rate  \\\n",
       "0       0.208219        0.102360         0.327584     0.166931   \n",
       "1       0.216042        0.106792         0.310975     0.195193   \n",
       "2       0.216042        0.106792         0.310975     0.195193   \n",
       "3       0.208219        0.102360         0.327584     0.166931   \n",
       "4       0.208219        0.102360         0.327584     0.166931   \n",
       "\n",
       "   elementary_rate  born_rate  death_rate  marriage_rate  divorce_rate  \\\n",
       "0         0.143015       7.37        7.72           5.74          2.39   \n",
       "1         0.118700       7.94        5.93           6.11          2.50   \n",
       "2         0.118700       7.94        5.93           6.11          2.50   \n",
       "3         0.143015       7.37        7.72           5.74          2.39   \n",
       "4         0.143015       7.37        7.72           5.74          2.39   \n",
       "\n",
       "   village  \n",
       "0     3132  \n",
       "1      921  \n",
       "2     1544  \n",
       "3     3350  \n",
       "4       63  \n",
       "\n",
       "[5 rows x 32 columns]"
      ]
     },
     "execution_count": 10,
     "metadata": {},
     "output_type": "execute_result"
    }
   ],
   "source": [
    "all_data.head()"
   ]
  },
  {
   "cell_type": "code",
   "execution_count": 11,
   "metadata": {},
   "outputs": [
    {
     "data": {
      "text/html": [
       "<div>\n",
       "<style scoped>\n",
       "    .dataframe tbody tr th:only-of-type {\n",
       "        vertical-align: middle;\n",
       "    }\n",
       "\n",
       "    .dataframe tbody tr th {\n",
       "        vertical-align: top;\n",
       "    }\n",
       "\n",
       "    .dataframe thead th {\n",
       "        text-align: right;\n",
       "    }\n",
       "</style>\n",
       "<table border=\"1\" class=\"dataframe\">\n",
       "  <thead>\n",
       "    <tr style=\"text-align: right;\">\n",
       "      <th></th>\n",
       "      <th>txn_dt</th>\n",
       "      <th>building_complete_dt</th>\n",
       "      <th>parking_price</th>\n",
       "      <th>land_area</th>\n",
       "      <th>building_area</th>\n",
       "      <th>town_population</th>\n",
       "      <th>town_area</th>\n",
       "      <th>town_population_density</th>\n",
       "      <th>doc_rate</th>\n",
       "      <th>master_rate</th>\n",
       "      <th>...</th>\n",
       "      <th>building_use_3</th>\n",
       "      <th>building_use_4</th>\n",
       "      <th>building_use_5</th>\n",
       "      <th>building_use_6</th>\n",
       "      <th>building_use_7</th>\n",
       "      <th>building_use_8</th>\n",
       "      <th>building_use_10</th>\n",
       "      <th>parking_way_0</th>\n",
       "      <th>parking_way_1</th>\n",
       "      <th>parking_way_2</th>\n",
       "    </tr>\n",
       "  </thead>\n",
       "  <tbody>\n",
       "    <tr>\n",
       "      <th>0</th>\n",
       "      <td>18674</td>\n",
       "      <td>6271</td>\n",
       "      <td>0.000000</td>\n",
       "      <td>2.952013</td>\n",
       "      <td>1.485727</td>\n",
       "      <td>24219.0</td>\n",
       "      <td>1.4161</td>\n",
       "      <td>17103.0</td>\n",
       "      <td>0.003948</td>\n",
       "      <td>0.047944</td>\n",
       "      <td>...</td>\n",
       "      <td>0</td>\n",
       "      <td>0</td>\n",
       "      <td>0</td>\n",
       "      <td>0</td>\n",
       "      <td>0</td>\n",
       "      <td>0</td>\n",
       "      <td>0</td>\n",
       "      <td>0</td>\n",
       "      <td>0</td>\n",
       "      <td>1</td>\n",
       "    </tr>\n",
       "    <tr>\n",
       "      <th>1</th>\n",
       "      <td>18800</td>\n",
       "      <td>7885</td>\n",
       "      <td>0.000000</td>\n",
       "      <td>2.516666</td>\n",
       "      <td>1.617666</td>\n",
       "      <td>551480.0</td>\n",
       "      <td>23.1373</td>\n",
       "      <td>23835.0</td>\n",
       "      <td>0.003518</td>\n",
       "      <td>0.048779</td>\n",
       "      <td>...</td>\n",
       "      <td>0</td>\n",
       "      <td>0</td>\n",
       "      <td>0</td>\n",
       "      <td>0</td>\n",
       "      <td>0</td>\n",
       "      <td>0</td>\n",
       "      <td>0</td>\n",
       "      <td>0</td>\n",
       "      <td>0</td>\n",
       "      <td>1</td>\n",
       "    </tr>\n",
       "    <tr>\n",
       "      <th>2</th>\n",
       "      <td>19289</td>\n",
       "      <td>6028</td>\n",
       "      <td>0.000000</td>\n",
       "      <td>3.110257</td>\n",
       "      <td>1.884685</td>\n",
       "      <td>551480.0</td>\n",
       "      <td>23.1373</td>\n",
       "      <td>23835.0</td>\n",
       "      <td>0.003518</td>\n",
       "      <td>0.048779</td>\n",
       "      <td>...</td>\n",
       "      <td>0</td>\n",
       "      <td>0</td>\n",
       "      <td>0</td>\n",
       "      <td>0</td>\n",
       "      <td>0</td>\n",
       "      <td>0</td>\n",
       "      <td>0</td>\n",
       "      <td>0</td>\n",
       "      <td>0</td>\n",
       "      <td>1</td>\n",
       "    </tr>\n",
       "    <tr>\n",
       "      <th>3</th>\n",
       "      <td>20385</td>\n",
       "      <td>18325</td>\n",
       "      <td>81138.889762</td>\n",
       "      <td>2.516666</td>\n",
       "      <td>2.678486</td>\n",
       "      <td>139259.0</td>\n",
       "      <td>14.7523</td>\n",
       "      <td>9440.0</td>\n",
       "      <td>0.003948</td>\n",
       "      <td>0.047944</td>\n",
       "      <td>...</td>\n",
       "      <td>0</td>\n",
       "      <td>0</td>\n",
       "      <td>0</td>\n",
       "      <td>0</td>\n",
       "      <td>0</td>\n",
       "      <td>0</td>\n",
       "      <td>0</td>\n",
       "      <td>1</td>\n",
       "      <td>0</td>\n",
       "      <td>0</td>\n",
       "    </tr>\n",
       "    <tr>\n",
       "      <th>4</th>\n",
       "      <td>20657</td>\n",
       "      <td>6880</td>\n",
       "      <td>0.000000</td>\n",
       "      <td>4.132066</td>\n",
       "      <td>1.738378</td>\n",
       "      <td>112397.0</td>\n",
       "      <td>71.0400</td>\n",
       "      <td>1582.0</td>\n",
       "      <td>0.003948</td>\n",
       "      <td>0.047944</td>\n",
       "      <td>...</td>\n",
       "      <td>0</td>\n",
       "      <td>0</td>\n",
       "      <td>0</td>\n",
       "      <td>0</td>\n",
       "      <td>0</td>\n",
       "      <td>0</td>\n",
       "      <td>0</td>\n",
       "      <td>0</td>\n",
       "      <td>0</td>\n",
       "      <td>1</td>\n",
       "    </tr>\n",
       "  </tbody>\n",
       "</table>\n",
       "<p>5 rows × 329 columns</p>\n",
       "</div>"
      ],
      "text/plain": [
       "   txn_dt  building_complete_dt  parking_price  land_area  building_area  \\\n",
       "0   18674                  6271       0.000000   2.952013       1.485727   \n",
       "1   18800                  7885       0.000000   2.516666       1.617666   \n",
       "2   19289                  6028       0.000000   3.110257       1.884685   \n",
       "3   20385                 18325   81138.889762   2.516666       2.678486   \n",
       "4   20657                  6880       0.000000   4.132066       1.738378   \n",
       "\n",
       "   town_population  town_area  town_population_density  doc_rate  master_rate  \\\n",
       "0          24219.0     1.4161                  17103.0  0.003948     0.047944   \n",
       "1         551480.0    23.1373                  23835.0  0.003518     0.048779   \n",
       "2         551480.0    23.1373                  23835.0  0.003518     0.048779   \n",
       "3         139259.0    14.7523                   9440.0  0.003948     0.047944   \n",
       "4         112397.0    71.0400                   1582.0  0.003948     0.047944   \n",
       "\n",
       "       ...        building_use_3  building_use_4  building_use_5  \\\n",
       "0      ...                     0               0               0   \n",
       "1      ...                     0               0               0   \n",
       "2      ...                     0               0               0   \n",
       "3      ...                     0               0               0   \n",
       "4      ...                     0               0               0   \n",
       "\n",
       "   building_use_6  building_use_7  building_use_8  building_use_10  \\\n",
       "0               0               0               0                0   \n",
       "1               0               0               0                0   \n",
       "2               0               0               0                0   \n",
       "3               0               0               0                0   \n",
       "4               0               0               0                0   \n",
       "\n",
       "   parking_way_0  parking_way_1  parking_way_2  \n",
       "0              0              0              1  \n",
       "1              0              0              1  \n",
       "2              0              0              1  \n",
       "3              1              0              0  \n",
       "4              0              0              1  \n",
       "\n",
       "[5 rows x 329 columns]"
      ]
     },
     "execution_count": 11,
     "metadata": {},
     "output_type": "execute_result"
    }
   ],
   "source": [
    "fields_to_drop = ['village_income_median','parking_area','lat','lon','village']\n",
    "all_data = all_data.drop(fields_to_drop, axis=1)\n",
    "\n",
    "dummy_fields = ['building_material', 'city', 'town', 'total_floor','txn_floor', 'building_type', 'building_use', 'parking_way']\n",
    "for each in dummy_fields:\n",
    "    dummies = pd.get_dummies(all_data[each], prefix=each, drop_first=False)\n",
    "    all_data = pd.concat([all_data, dummies], axis=1)\n",
    "\n",
    "\n",
    "fields_to_drop = ['building_material', 'city', 'town', 'total_floor','txn_floor', 'building_type', 'building_use', 'parking_way']\n",
    "all_data = all_data.drop(fields_to_drop, axis=1)\n",
    "# all_data.to_csv('processed_train.csv')\n",
    "all_data.head()"
   ]
  },
  {
   "cell_type": "code",
   "execution_count": 12,
   "metadata": {},
   "outputs": [
    {
     "data": {
      "text/plain": [
       "Index([], dtype='object')"
      ]
     },
     "execution_count": 12,
     "metadata": {},
     "output_type": "execute_result"
    }
   ],
   "source": [
    "# check nan columns\n",
    "all_data.columns[all_data.isna().any()]"
   ]
  },
  {
   "cell_type": "code",
   "execution_count": 13,
   "metadata": {},
   "outputs": [],
   "source": [
    "# normalize all features\n",
    "from sklearn.preprocessing import StandardScaler\n",
    "scaler = StandardScaler()\n",
    "scaled_all_data = scaler.fit_transform(all_data)"
   ]
  },
  {
   "cell_type": "code",
   "execution_count": 14,
   "metadata": {},
   "outputs": [
    {
     "data": {
      "text/plain": [
       "array([[-1.12065199, -1.10116849, -0.40969617, ..., -0.47132423,\n",
       "        -0.22909973,  0.54906076],\n",
       "       [-0.94747643, -0.72908725, -0.40969617, ..., -0.47132423,\n",
       "        -0.22909973,  0.54906076],\n",
       "       [-0.27539036, -1.15718815, -0.40969617, ..., -0.47132423,\n",
       "        -0.22909973,  0.54906076],\n",
       "       [ 1.23096208,  1.67768355,  2.45456455, ...,  2.12168173,\n",
       "        -0.22909973, -1.82129206],\n",
       "       [ 1.60480137, -0.96077352, -0.40969617, ..., -0.47132423,\n",
       "        -0.22909973,  0.54906076]])"
      ]
     },
     "execution_count": 14,
     "metadata": {},
     "output_type": "execute_result"
    }
   ],
   "source": [
    "#creating matrices for sklearn:\n",
    "processed_train = scaled_all_data[:train.shape[0]]\n",
    "processed_test = scaled_all_data[train.shape[0]:]\n",
    "total_price = train.total_price\n",
    "processed_train[:5]"
   ]
  },
  {
   "cell_type": "code",
   "execution_count": 15,
   "metadata": {},
   "outputs": [
    {
     "data": {
      "text/plain": [
       "0    13.381036\n",
       "1    15.015913\n",
       "2    16.074236\n",
       "3    16.469809\n",
       "4    13.544637\n",
       "Name: total_price, dtype: float64"
      ]
     },
     "execution_count": 15,
     "metadata": {},
     "output_type": "execute_result"
    }
   ],
   "source": [
    "total_price[:5]"
   ]
  },
  {
   "cell_type": "code",
   "execution_count": 16,
   "metadata": {},
   "outputs": [
    {
     "data": {
      "text/plain": [
       "((53966, 329), (5997, 329))"
      ]
     },
     "execution_count": 16,
     "metadata": {},
     "output_type": "execute_result"
    }
   ],
   "source": [
    "from sklearn.model_selection import train_test_split\n",
    "\n",
    "X_train, X_valid, y_train, y_valid = train_test_split(processed_train, total_price, test_size=valid_ratio, random_state=100)\n",
    "X_train.shape , X_valid.shape"
   ]
  },
  {
   "cell_type": "markdown",
   "metadata": {},
   "source": [
    "# xgboost learning"
   ]
  },
  {
   "cell_type": "code",
   "execution_count": 17,
   "metadata": {},
   "outputs": [],
   "source": [
    "import xgboost as xgb"
   ]
  },
  {
   "cell_type": "code",
   "execution_count": 18,
   "metadata": {},
   "outputs": [
    {
     "data": {
      "text/plain": [
       "(53966, 329)"
      ]
     },
     "execution_count": 18,
     "metadata": {},
     "output_type": "execute_result"
    }
   ],
   "source": [
    "X_train.shape"
   ]
  },
  {
   "cell_type": "code",
   "execution_count": 19,
   "metadata": {},
   "outputs": [],
   "source": [
    "# import time\n",
    "\n",
    "# start = time.time()\n",
    "\n",
    "# dtrain = xgb.DMatrix(processed_train, label = total_price)\n",
    "\n",
    "# params = {\"max_depth\":10, \"eta\":0.1}\n",
    "# model = xgb.cv(params, dtrain,  num_boost_round=200, early_stopping_rounds=70)\n",
    "# print(\"time elapsed: \", (time.time() - start),\" sec\")"
   ]
  },
  {
   "cell_type": "code",
   "execution_count": 20,
   "metadata": {},
   "outputs": [],
   "source": [
    "# mpl.rcParams['figure.facecolor'] = 'w'\n",
    "# axes = model.loc[30:,[\"test-rmse-mean\", \"train-rmse-mean\"]].plot()"
   ]
  },
  {
   "cell_type": "code",
   "execution_count": 21,
   "metadata": {},
   "outputs": [
    {
     "name": "stdout",
     "output_type": "stream",
     "text": [
      "Fitting 3 folds for each of 9 candidates, totalling 27 fits\n"
     ]
    },
    {
     "name": "stderr",
     "output_type": "stream",
     "text": [
      "[Parallel(n_jobs=1)]: Done  27 out of  27 | elapsed: 76.9min finished\n"
     ]
    },
    {
     "name": "stdout",
     "output_type": "stream",
     "text": [
      "CPU times: user 1h 23min 10s, sys: 13.7 s, total: 1h 23min 23s\n",
      "Wall time: 1h 23min 23s\n"
     ]
    },
    {
     "data": {
      "text/plain": [
       "GridSearchCV(cv=None, error_score='raise',\n",
       "       estimator=XGBRegressor(base_score=0.5, booster='gbtree', colsample_bylevel=1,\n",
       "       colsample_bytree=1, gamma=0, learning_rate=0.1, max_delta_step=0,\n",
       "       max_depth=3, min_child_weight=1, missing=None, n_estimators=100,\n",
       "       n_jobs=1, nthread=None, objective='reg:linear', random_state=0,\n",
       "       reg_alpha=0, reg_lambda=1, scale_pos_weight=1, seed=None,\n",
       "       silent=True, subsample=1),\n",
       "       fit_params=None, iid=True, n_jobs=1,\n",
       "       param_grid={'colsample_bytree': [1.0], 'min_child_weight': [1.0], 'max_depth': [6, 10, 20], 'n_estimators': [100, 200, 500]},\n",
       "       pre_dispatch='2*n_jobs', refit=True, return_train_score='warn',\n",
       "       scoring=None, verbose=1)"
      ]
     },
     "execution_count": 21,
     "metadata": {},
     "output_type": "execute_result"
    }
   ],
   "source": [
    "gbm = xgb.XGBRegressor()\n",
    "reg_cv = GridSearchCV(gbm, {\"colsample_bytree\":[1.0],\"min_child_weight\":[1.0],'max_depth': [6,10,20], 'n_estimators': [100,200,500]}, verbose=1)\n",
    "%time reg_cv.fit(processed_train,total_price)"
   ]
  },
  {
   "cell_type": "code",
   "execution_count": 22,
   "metadata": {},
   "outputs": [
    {
     "data": {
      "text/plain": [
       "{'colsample_bytree': 1.0,\n",
       " 'max_depth': 10,\n",
       " 'min_child_weight': 1.0,\n",
       " 'n_estimators': 500}"
      ]
     },
     "execution_count": 22,
     "metadata": {},
     "output_type": "execute_result"
    }
   ],
   "source": [
    "reg_cv.best_params_"
   ]
  },
  {
   "cell_type": "code",
   "execution_count": 23,
   "metadata": {},
   "outputs": [
    {
     "name": "stdout",
     "output_type": "stream",
     "text": [
      "CPU times: user 6min 29s, sys: 468 ms, total: 6min 30s\n",
      "Wall time: 6min 30s\n"
     ]
    },
    {
     "data": {
      "text/plain": [
       "XGBRegressor(base_score=0.5, booster='gbtree', colsample_bylevel=1,\n",
       "       colsample_bytree=1.0, gamma=0, learning_rate=0.1, max_delta_step=0,\n",
       "       max_depth=10, min_child_weight=1.0, missing=None, n_estimators=500,\n",
       "       n_jobs=1, nthread=None, objective='reg:linear', random_state=0,\n",
       "       reg_alpha=0, reg_lambda=1, scale_pos_weight=1, seed=None,\n",
       "       silent=True, subsample=1)"
      ]
     },
     "execution_count": 23,
     "metadata": {},
     "output_type": "execute_result"
    }
   ],
   "source": [
    "model_xgb = xgb.XGBRegressor(**reg_cv.best_params_)\n",
    "%time model_xgb.fit(processed_train, total_price)"
   ]
  },
  {
   "cell_type": "code",
   "execution_count": 24,
   "metadata": {},
   "outputs": [],
   "source": [
    "\n",
    "# model_xgb = xgb.XGBRegressor(n_estimators=500, max_depth=10, learning_rate=0.1) #the params were tuned using xgb.cv\n",
    "# %time model_xgb.fit(processed_train, total_price)\n"
   ]
  },
  {
   "cell_type": "code",
   "execution_count": null,
   "metadata": {},
   "outputs": [],
   "source": []
  },
  {
   "cell_type": "code",
   "execution_count": 25,
   "metadata": {},
   "outputs": [
    {
     "data": {
      "text/plain": [
       "array([23988242. ,  4318506.5, 11429158. ,  7245130.5,   993360.9],\n",
       "      dtype=float32)"
      ]
     },
     "execution_count": 25,
     "metadata": {},
     "output_type": "execute_result"
    }
   ],
   "source": [
    "xgb_preds = np.expm1(model_xgb.predict(processed_test))\n",
    "xgb_preds[:5]"
   ]
  },
  {
   "cell_type": "code",
   "execution_count": 26,
   "metadata": {},
   "outputs": [],
   "source": [
    "test = pd.read_csv('test.csv')"
   ]
  },
  {
   "cell_type": "code",
   "execution_count": 27,
   "metadata": {},
   "outputs": [
    {
     "data": {
      "text/html": [
       "<div>\n",
       "<style scoped>\n",
       "    .dataframe tbody tr th:only-of-type {\n",
       "        vertical-align: middle;\n",
       "    }\n",
       "\n",
       "    .dataframe tbody tr th {\n",
       "        vertical-align: top;\n",
       "    }\n",
       "\n",
       "    .dataframe thead th {\n",
       "        text-align: right;\n",
       "    }\n",
       "</style>\n",
       "<table border=\"1\" class=\"dataframe\">\n",
       "  <thead>\n",
       "    <tr style=\"text-align: right;\">\n",
       "      <th></th>\n",
       "      <th>building_id</th>\n",
       "      <th>building_material</th>\n",
       "      <th>city</th>\n",
       "      <th>txn_dt</th>\n",
       "      <th>total_floor</th>\n",
       "      <th>building_type</th>\n",
       "      <th>building_use</th>\n",
       "      <th>building_complete_dt</th>\n",
       "      <th>parking_way</th>\n",
       "      <th>parking_area</th>\n",
       "      <th>...</th>\n",
       "      <th>XIV_250</th>\n",
       "      <th>XIV_500</th>\n",
       "      <th>XIV_index_500</th>\n",
       "      <th>XIV_1000</th>\n",
       "      <th>XIV_index_1000</th>\n",
       "      <th>XIV_5000</th>\n",
       "      <th>XIV_index_5000</th>\n",
       "      <th>XIV_10000</th>\n",
       "      <th>XIV_index_10000</th>\n",
       "      <th>XIV_MIN</th>\n",
       "    </tr>\n",
       "  </thead>\n",
       "  <tbody>\n",
       "    <tr>\n",
       "      <th>0</th>\n",
       "      <td>X5gsdTWGS3W7JJQB</td>\n",
       "      <td>1</td>\n",
       "      <td>13</td>\n",
       "      <td>18634</td>\n",
       "      <td>2</td>\n",
       "      <td>4</td>\n",
       "      <td>2</td>\n",
       "      <td>1857</td>\n",
       "      <td>2</td>\n",
       "      <td>NaN</td>\n",
       "      <td>...</td>\n",
       "      <td>7</td>\n",
       "      <td>21</td>\n",
       "      <td>1</td>\n",
       "      <td>129</td>\n",
       "      <td>1</td>\n",
       "      <td>3991</td>\n",
       "      <td>1</td>\n",
       "      <td>8409</td>\n",
       "      <td>1</td>\n",
       "      <td>105.462231</td>\n",
       "    </tr>\n",
       "    <tr>\n",
       "      <th>1</th>\n",
       "      <td>BTshNOJyKHnT2YIT</td>\n",
       "      <td>8</td>\n",
       "      <td>7</td>\n",
       "      <td>20199</td>\n",
       "      <td>10</td>\n",
       "      <td>3</td>\n",
       "      <td>2</td>\n",
       "      <td>16011</td>\n",
       "      <td>2</td>\n",
       "      <td>NaN</td>\n",
       "      <td>...</td>\n",
       "      <td>18</td>\n",
       "      <td>44</td>\n",
       "      <td>1</td>\n",
       "      <td>67</td>\n",
       "      <td>1</td>\n",
       "      <td>1950</td>\n",
       "      <td>1</td>\n",
       "      <td>10725</td>\n",
       "      <td>1</td>\n",
       "      <td>100.819809</td>\n",
       "    </tr>\n",
       "    <tr>\n",
       "      <th>2</th>\n",
       "      <td>dhdymr0lV8N5kZOT</td>\n",
       "      <td>8</td>\n",
       "      <td>12</td>\n",
       "      <td>19769</td>\n",
       "      <td>4</td>\n",
       "      <td>4</td>\n",
       "      <td>10</td>\n",
       "      <td>18294</td>\n",
       "      <td>2</td>\n",
       "      <td>NaN</td>\n",
       "      <td>...</td>\n",
       "      <td>0</td>\n",
       "      <td>3</td>\n",
       "      <td>1</td>\n",
       "      <td>35</td>\n",
       "      <td>1</td>\n",
       "      <td>3707</td>\n",
       "      <td>1</td>\n",
       "      <td>19459</td>\n",
       "      <td>1</td>\n",
       "      <td>259.800543</td>\n",
       "    </tr>\n",
       "    <tr>\n",
       "      <th>3</th>\n",
       "      <td>VEwyGGMcD56w5BOc</td>\n",
       "      <td>10</td>\n",
       "      <td>7</td>\n",
       "      <td>20479</td>\n",
       "      <td>19</td>\n",
       "      <td>2</td>\n",
       "      <td>0</td>\n",
       "      <td>17837</td>\n",
       "      <td>2</td>\n",
       "      <td>NaN</td>\n",
       "      <td>...</td>\n",
       "      <td>16</td>\n",
       "      <td>60</td>\n",
       "      <td>1</td>\n",
       "      <td>144</td>\n",
       "      <td>1</td>\n",
       "      <td>6487</td>\n",
       "      <td>1</td>\n",
       "      <td>29400</td>\n",
       "      <td>1</td>\n",
       "      <td>22.941906</td>\n",
       "    </tr>\n",
       "    <tr>\n",
       "      <th>4</th>\n",
       "      <td>wmUeMoJZfsqaSX9b</td>\n",
       "      <td>8</td>\n",
       "      <td>3</td>\n",
       "      <td>18164</td>\n",
       "      <td>13</td>\n",
       "      <td>0</td>\n",
       "      <td>2</td>\n",
       "      <td>13272</td>\n",
       "      <td>2</td>\n",
       "      <td>NaN</td>\n",
       "      <td>...</td>\n",
       "      <td>4</td>\n",
       "      <td>18</td>\n",
       "      <td>1</td>\n",
       "      <td>76</td>\n",
       "      <td>1</td>\n",
       "      <td>1346</td>\n",
       "      <td>1</td>\n",
       "      <td>3280</td>\n",
       "      <td>1</td>\n",
       "      <td>181.213095</td>\n",
       "    </tr>\n",
       "  </tbody>\n",
       "</table>\n",
       "<p>5 rows × 234 columns</p>\n",
       "</div>"
      ],
      "text/plain": [
       "        building_id  building_material  city  txn_dt  total_floor  \\\n",
       "0  X5gsdTWGS3W7JJQB                  1    13   18634            2   \n",
       "1  BTshNOJyKHnT2YIT                  8     7   20199           10   \n",
       "2  dhdymr0lV8N5kZOT                  8    12   19769            4   \n",
       "3  VEwyGGMcD56w5BOc                 10     7   20479           19   \n",
       "4  wmUeMoJZfsqaSX9b                  8     3   18164           13   \n",
       "\n",
       "   building_type  building_use  building_complete_dt  parking_way  \\\n",
       "0              4             2                  1857            2   \n",
       "1              3             2                 16011            2   \n",
       "2              4            10                 18294            2   \n",
       "3              2             0                 17837            2   \n",
       "4              0             2                 13272            2   \n",
       "\n",
       "   parking_area     ...      XIV_250  XIV_500  XIV_index_500  XIV_1000  \\\n",
       "0           NaN     ...            7       21              1       129   \n",
       "1           NaN     ...           18       44              1        67   \n",
       "2           NaN     ...            0        3              1        35   \n",
       "3           NaN     ...           16       60              1       144   \n",
       "4           NaN     ...            4       18              1        76   \n",
       "\n",
       "   XIV_index_1000  XIV_5000  XIV_index_5000  XIV_10000  XIV_index_10000  \\\n",
       "0               1      3991               1       8409                1   \n",
       "1               1      1950               1      10725                1   \n",
       "2               1      3707               1      19459                1   \n",
       "3               1      6487               1      29400                1   \n",
       "4               1      1346               1       3280                1   \n",
       "\n",
       "      XIV_MIN  \n",
       "0  105.462231  \n",
       "1  100.819809  \n",
       "2  259.800543  \n",
       "3   22.941906  \n",
       "4  181.213095  \n",
       "\n",
       "[5 rows x 234 columns]"
      ]
     },
     "execution_count": 27,
     "metadata": {},
     "output_type": "execute_result"
    }
   ],
   "source": [
    "test.head()"
   ]
  },
  {
   "cell_type": "code",
   "execution_count": 28,
   "metadata": {},
   "outputs": [],
   "source": [
    "my_submission = pd.DataFrame({'building_id': test.building_id, 'total_price': xgb_preds})\n",
    "my_submission.to_csv('submission.csv', index=False)"
   ]
  },
  {
   "cell_type": "code",
   "execution_count": null,
   "metadata": {},
   "outputs": [],
   "source": []
  }
 ],
 "metadata": {
  "kernelspec": {
   "display_name": "Python 3",
   "language": "python",
   "name": "python3"
  },
  "language_info": {
   "codemirror_mode": {
    "name": "ipython",
    "version": 3
   },
   "file_extension": ".py",
   "mimetype": "text/x-python",
   "name": "python",
   "nbconvert_exporter": "python",
   "pygments_lexer": "ipython3",
   "version": "3.6.6"
  }
 },
 "nbformat": 4,
 "nbformat_minor": 2
}
