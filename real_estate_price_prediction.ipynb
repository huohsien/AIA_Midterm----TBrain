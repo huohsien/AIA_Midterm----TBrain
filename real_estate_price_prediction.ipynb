{
 "cells": [
  {
   "cell_type": "markdown",
   "metadata": {},
   "source": [
    "# Midterm E. Sun Bank real estate price prediciton competition"
   ]
  },
  {
   "cell_type": "code",
   "execution_count": 1,
   "metadata": {},
   "outputs": [],
   "source": [
    "import pandas as pd"
   ]
  },
  {
   "cell_type": "code",
   "execution_count": 2,
   "metadata": {},
   "outputs": [],
   "source": [
    "train_split_ratio = 0.1"
   ]
  },
  {
   "cell_type": "code",
   "execution_count": 3,
   "metadata": {},
   "outputs": [],
   "source": [
    "train = pd.read_csv('train.csv')\n",
    "test = pd.read_csv('test.csv')"
   ]
  },
  {
   "cell_type": "code",
   "execution_count": 4,
   "metadata": {},
   "outputs": [],
   "source": [
    "all_data = pd.concat((train.loc[:,'building_material':'village'],\n",
    "                      test.loc[:,'building_material':'village']))"
   ]
  },
  {
   "cell_type": "code",
   "execution_count": 5,
   "metadata": {},
   "outputs": [],
   "source": [
    "# maybe should ignore these two columns\n",
    "all_data['parking_area'].fillna(0, inplace=True)\n",
    "all_data['parking_price'].fillna(0, inplace=True)"
   ]
  },
  {
   "cell_type": "code",
   "execution_count": 6,
   "metadata": {},
   "outputs": [],
   "source": [
    "# fill the missing value in column 'txn_floor' with the mode of the column\n",
    "all_data['txn_floor'].fillna(all_data['txn_floor'].mode()[0], inplace=True)"
   ]
  },
  {
   "cell_type": "code",
   "execution_count": null,
   "metadata": {},
   "outputs": [],
   "source": [
    "dummy_fields = ['building_material', 'city', 'town', 'village','total_floor','txn_floor', 'building_type', 'building_use']\n",
    "for each in dummy_fields:\n",
    "    dummies = pd.get_dummies(all_data[each], prefix=each, drop_first=False)\n",
    "    all_data = pd.concat([all_data, dummies], axis=1)\n",
    "\n",
    "\n",
    "fields_to_drop = ['building_material', 'city', 'town', 'village','total_floor','txn_floor', 'building_type', 'building_use','village_income_median']\n",
    "all_data = all_data.drop(fields_to_drop, axis=1)\n",
    "all_data.to_csv('all_data_preproccessed.csv')\n",
    "all_data.head()"
   ]
  },
  {
   "cell_type": "code",
   "execution_count": null,
   "metadata": {},
   "outputs": [],
   "source": [
    "# check nan columns\n",
    "all_data.columns[all_data.isna().any()]"
   ]
  },
  {
   "cell_type": "code",
   "execution_count": null,
   "metadata": {},
   "outputs": [],
   "source": [
    "all_data.loc[:,'txn_dt':'village']"
   ]
  }
 ],
 "metadata": {
  "kernelspec": {
   "display_name": "Python 3",
   "language": "python",
   "name": "python3"
  },
  "language_info": {
   "codemirror_mode": {
    "name": "ipython",
    "version": 3
   },
   "file_extension": ".py",
   "mimetype": "text/x-python",
   "name": "python",
   "nbconvert_exporter": "python",
   "pygments_lexer": "ipython3",
   "version": "3.6.6"
  }
 },
 "nbformat": 4,
 "nbformat_minor": 2
}
