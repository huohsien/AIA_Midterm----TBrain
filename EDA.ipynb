{
 "cells": [
  {
   "cell_type": "code",
   "execution_count": 1,
   "metadata": {},
   "outputs": [],
   "source": [
    "import pandas as pd\n",
    "import numpy as np\n",
    "import matplotlib.pyplot as plt\n",
    "import matplotlib as mpl\n",
    "from scipy.stats import skew\n",
    "%matplotlib inline"
   ]
  },
  {
   "cell_type": "code",
   "execution_count": 2,
   "metadata": {},
   "outputs": [],
   "source": [
    "# set facecolor to white for showing tick labels in dark theme mode\n",
    "# context = plt.rc_context({'axes.edgecolor':'black', 'xtick.color':'black', 'ytick.color':'black', 'figure.facecolor':'white'})\n",
    "mpl.rcParams['figure.facecolor'] = 'w'"
   ]
  },
  {
   "cell_type": "markdown",
   "metadata": {},
   "source": [
    "# Basic Exploration of Data"
   ]
  },
  {
   "cell_type": "code",
   "execution_count": 3,
   "metadata": {},
   "outputs": [
    {
     "data": {
      "text/html": [
       "<div>\n",
       "<style scoped>\n",
       "    .dataframe tbody tr th:only-of-type {\n",
       "        vertical-align: middle;\n",
       "    }\n",
       "\n",
       "    .dataframe tbody tr th {\n",
       "        vertical-align: top;\n",
       "    }\n",
       "\n",
       "    .dataframe thead th {\n",
       "        text-align: right;\n",
       "    }\n",
       "</style>\n",
       "<table border=\"1\" class=\"dataframe\">\n",
       "  <thead>\n",
       "    <tr style=\"text-align: right;\">\n",
       "      <th></th>\n",
       "      <th>building_id</th>\n",
       "      <th>building_material</th>\n",
       "      <th>city</th>\n",
       "      <th>txn_dt</th>\n",
       "      <th>total_floor</th>\n",
       "      <th>building_type</th>\n",
       "      <th>building_use</th>\n",
       "      <th>building_complete_dt</th>\n",
       "      <th>parking_way</th>\n",
       "      <th>parking_area</th>\n",
       "      <th>...</th>\n",
       "      <th>XIV_500</th>\n",
       "      <th>XIV_index_500</th>\n",
       "      <th>XIV_1000</th>\n",
       "      <th>XIV_index_1000</th>\n",
       "      <th>XIV_5000</th>\n",
       "      <th>XIV_index_5000</th>\n",
       "      <th>XIV_10000</th>\n",
       "      <th>XIV_index_10000</th>\n",
       "      <th>XIV_MIN</th>\n",
       "      <th>total_price</th>\n",
       "    </tr>\n",
       "  </thead>\n",
       "  <tbody>\n",
       "    <tr>\n",
       "      <th>0</th>\n",
       "      <td>e3mMIMR3JJqCaXz1</td>\n",
       "      <td>8</td>\n",
       "      <td>21</td>\n",
       "      <td>18674</td>\n",
       "      <td>4</td>\n",
       "      <td>3</td>\n",
       "      <td>2</td>\n",
       "      <td>6271</td>\n",
       "      <td>2</td>\n",
       "      <td>NaN</td>\n",
       "      <td>...</td>\n",
       "      <td>58</td>\n",
       "      <td>1</td>\n",
       "      <td>157</td>\n",
       "      <td>1</td>\n",
       "      <td>2483</td>\n",
       "      <td>1</td>\n",
       "      <td>6011</td>\n",
       "      <td>1</td>\n",
       "      <td>34.469803</td>\n",
       "      <td>6.476038e+05</td>\n",
       "    </tr>\n",
       "    <tr>\n",
       "      <th>1</th>\n",
       "      <td>LgwzgklNvy4QCtq5</td>\n",
       "      <td>8</td>\n",
       "      <td>7</td>\n",
       "      <td>18800</td>\n",
       "      <td>5</td>\n",
       "      <td>1</td>\n",
       "      <td>2</td>\n",
       "      <td>7885</td>\n",
       "      <td>2</td>\n",
       "      <td>NaN</td>\n",
       "      <td>...</td>\n",
       "      <td>28</td>\n",
       "      <td>1</td>\n",
       "      <td>115</td>\n",
       "      <td>1</td>\n",
       "      <td>15872</td>\n",
       "      <td>1</td>\n",
       "      <td>32221</td>\n",
       "      <td>1</td>\n",
       "      <td>40.073573</td>\n",
       "      <td>3.321452e+06</td>\n",
       "    </tr>\n",
       "    <tr>\n",
       "      <th>2</th>\n",
       "      <td>ucIR2NLLsC3T650L</td>\n",
       "      <td>8</td>\n",
       "      <td>7</td>\n",
       "      <td>19289</td>\n",
       "      <td>4</td>\n",
       "      <td>1</td>\n",
       "      <td>2</td>\n",
       "      <td>6028</td>\n",
       "      <td>2</td>\n",
       "      <td>NaN</td>\n",
       "      <td>...</td>\n",
       "      <td>78</td>\n",
       "      <td>1</td>\n",
       "      <td>212</td>\n",
       "      <td>1</td>\n",
       "      <td>15760</td>\n",
       "      <td>1</td>\n",
       "      <td>32228</td>\n",
       "      <td>1</td>\n",
       "      <td>54.462081</td>\n",
       "      <td>9.570885e+06</td>\n",
       "    </tr>\n",
       "    <tr>\n",
       "      <th>3</th>\n",
       "      <td>jre1pJhcQj91Kdky</td>\n",
       "      <td>8</td>\n",
       "      <td>21</td>\n",
       "      <td>20385</td>\n",
       "      <td>24</td>\n",
       "      <td>0</td>\n",
       "      <td>2</td>\n",
       "      <td>18325</td>\n",
       "      <td>0</td>\n",
       "      <td>NaN</td>\n",
       "      <td>...</td>\n",
       "      <td>20</td>\n",
       "      <td>1</td>\n",
       "      <td>125</td>\n",
       "      <td>1</td>\n",
       "      <td>2568</td>\n",
       "      <td>1</td>\n",
       "      <td>7271</td>\n",
       "      <td>1</td>\n",
       "      <td>99.628966</td>\n",
       "      <td>1.421501e+07</td>\n",
       "    </tr>\n",
       "    <tr>\n",
       "      <th>4</th>\n",
       "      <td>rQpYpY9nRG7X5mmr</td>\n",
       "      <td>1</td>\n",
       "      <td>21</td>\n",
       "      <td>20657</td>\n",
       "      <td>2</td>\n",
       "      <td>4</td>\n",
       "      <td>2</td>\n",
       "      <td>6880</td>\n",
       "      <td>2</td>\n",
       "      <td>NaN</td>\n",
       "      <td>...</td>\n",
       "      <td>18</td>\n",
       "      <td>1</td>\n",
       "      <td>47</td>\n",
       "      <td>1</td>\n",
       "      <td>2587</td>\n",
       "      <td>1</td>\n",
       "      <td>7442</td>\n",
       "      <td>1</td>\n",
       "      <td>124.131236</td>\n",
       "      <td>7.627120e+05</td>\n",
       "    </tr>\n",
       "  </tbody>\n",
       "</table>\n",
       "<p>5 rows × 235 columns</p>\n",
       "</div>"
      ],
      "text/plain": [
       "        building_id  building_material  city  txn_dt  total_floor  \\\n",
       "0  e3mMIMR3JJqCaXz1                  8    21   18674            4   \n",
       "1  LgwzgklNvy4QCtq5                  8     7   18800            5   \n",
       "2  ucIR2NLLsC3T650L                  8     7   19289            4   \n",
       "3  jre1pJhcQj91Kdky                  8    21   20385           24   \n",
       "4  rQpYpY9nRG7X5mmr                  1    21   20657            2   \n",
       "\n",
       "   building_type  building_use  building_complete_dt  parking_way  \\\n",
       "0              3             2                  6271            2   \n",
       "1              1             2                  7885            2   \n",
       "2              1             2                  6028            2   \n",
       "3              0             2                 18325            0   \n",
       "4              4             2                  6880            2   \n",
       "\n",
       "   parking_area      ...       XIV_500  XIV_index_500  XIV_1000  \\\n",
       "0           NaN      ...            58              1       157   \n",
       "1           NaN      ...            28              1       115   \n",
       "2           NaN      ...            78              1       212   \n",
       "3           NaN      ...            20              1       125   \n",
       "4           NaN      ...            18              1        47   \n",
       "\n",
       "   XIV_index_1000  XIV_5000  XIV_index_5000  XIV_10000  XIV_index_10000  \\\n",
       "0               1      2483               1       6011                1   \n",
       "1               1     15872               1      32221                1   \n",
       "2               1     15760               1      32228                1   \n",
       "3               1      2568               1       7271                1   \n",
       "4               1      2587               1       7442                1   \n",
       "\n",
       "      XIV_MIN   total_price  \n",
       "0   34.469803  6.476038e+05  \n",
       "1   40.073573  3.321452e+06  \n",
       "2   54.462081  9.570885e+06  \n",
       "3   99.628966  1.421501e+07  \n",
       "4  124.131236  7.627120e+05  \n",
       "\n",
       "[5 rows x 235 columns]"
      ]
     },
     "execution_count": 3,
     "metadata": {},
     "output_type": "execute_result"
    }
   ],
   "source": [
    "train = pd.read_csv('train.csv')\n",
    "train.head()"
   ]
  },
  {
   "cell_type": "code",
   "execution_count": 4,
   "metadata": {},
   "outputs": [
    {
     "data": {
      "text/plain": [
       "'building_id , building_material , city , txn_dt , total_floor , building_type , building_use , building_complete_dt , parking_way , parking_area , parking_price , txn_floor , land_area , building_area , town , lat , lon , village_income_median , town_population , town_area , town_population_density , doc_rate , master_rate , bachelor_rate , jobschool_rate , highschool_rate , junior_rate , elementary_rate , born_rate , death_rate , marriage_rate , divorce_rate , village , N_50 , N_500 , N_1000 , N_5000 , N_10000 , I_10 , I_50 , I_index_50 , I_100 , I_250 , I_500 , I_index_500 , I_1000 , I_index_1000 , I_5000 , I_index_5000 , I_10000 , I_index_10000 , I_MIN , II_10 , II_50 , II_index_50 , II_100 , II_250 , II_500 , II_index_500 , II_1000 , II_index_1000 , II_5000 , II_index_5000 , II_10000 , II_index_10000 , II_MIN , III_10 , III_50 , III_index_50 , III_100 , III_250 , III_500 , III_index_500 , III_1000 , III_index_1000 , III_5000 , III_index_5000 , III_10000 , III_index_10000 , III_MIN , IV_10 , IV_50 , IV_index_50 , IV_100 , IV_250 , IV_500 , IV_index_500 , IV_1000 , IV_index_1000 , IV_5000 , IV_index_5000 , IV_10000 , IV_index_10000 , IV_MIN , V_10 , V_50 , V_index_50 , V_100 , V_250 , V_500 , V_index_500 , V_1000 , V_index_1000 , V_5000 , V_index_5000 , V_10000 , V_index_10000 , V_MIN , VI_10 , VI_50 , VI_index_50 , VI_100 , VI_250 , VI_500 , VI_index_500 , VI_1000 , VI_index_1000 , VI_5000 , VI_index_5000 , VI_10000 , VI_index_10000 , VI_MIN , VII_10 , VII_50 , VII_index_50 , VII_100 , VII_250 , VII_500 , VII_index_500 , VII_1000 , VII_index_1000 , VII_5000 , VII_index_5000 , VII_10000 , VII_index_10000 , VII_MIN , VIII_10 , VIII_50 , VIII_index_50 , VIII_100 , VIII_250 , VIII_500 , VIII_index_500 , VIII_1000 , VIII_index_1000 , VIII_5000 , VIII_index_5000 , VIII_10000 , VIII_index_10000 , VIII_MIN , IX_10 , IX_50 , IX_index_50 , IX_100 , IX_250 , IX_500 , IX_index_500 , IX_1000 , IX_index_1000 , IX_5000 , IX_index_5000 , IX_10000 , IX_index_10000 , IX_MIN , X_10 , X_50 , X_index_50 , X_100 , X_250 , X_500 , X_index_500 , X_1000 , X_index_1000 , X_5000 , X_index_5000 , X_10000 , X_index_10000 , X_MIN , XI_10 , XI_50 , XI_index_50 , XI_100 , XI_250 , XI_500 , XI_index_500 , XI_1000 , XI_index_1000 , XI_5000 , XI_index_5000 , XI_10000 , XI_index_10000 , XI_MIN , XII_10 , XII_50 , XII_index_50 , XII_100 , XII_250 , XII_500 , XII_index_500 , XII_1000 , XII_index_1000 , XII_5000 , XII_index_5000 , XII_10000 , XII_index_10000 , XII_MIN , XIII_10 , XIII_50 , XIII_index_50 , XIII_100 , XIII_250 , XIII_500 , XIII_index_500 , XIII_1000 , XIII_index_1000 , XIII_5000 , XIII_index_5000 , XIII_10000 , XIII_index_10000 , XIII_MIN , XIV_10 , XIV_50 , XIV_index_50 , XIV_100 , XIV_250 , XIV_500 , XIV_index_500 , XIV_1000 , XIV_index_1000 , XIV_5000 , XIV_index_5000 , XIV_10000 , XIV_index_10000 , XIV_MIN , total_price , '"
      ]
     },
     "execution_count": 4,
     "metadata": {},
     "output_type": "execute_result"
    }
   ],
   "source": [
    "s = \"\"\n",
    "for col in train.columns:\n",
    "    s += col + ' , '\n",
    "s"
   ]
  },
  {
   "cell_type": "code",
   "execution_count": 5,
   "metadata": {},
   "outputs": [
    {
     "data": {
      "text/html": [
       "<div>\n",
       "<style scoped>\n",
       "    .dataframe tbody tr th:only-of-type {\n",
       "        vertical-align: middle;\n",
       "    }\n",
       "\n",
       "    .dataframe tbody tr th {\n",
       "        vertical-align: top;\n",
       "    }\n",
       "\n",
       "    .dataframe thead th {\n",
       "        text-align: right;\n",
       "    }\n",
       "</style>\n",
       "<table border=\"1\" class=\"dataframe\">\n",
       "  <thead>\n",
       "    <tr style=\"text-align: right;\">\n",
       "      <th></th>\n",
       "      <th>building_id</th>\n",
       "      <th>building_material</th>\n",
       "      <th>city</th>\n",
       "      <th>txn_dt</th>\n",
       "      <th>total_floor</th>\n",
       "      <th>building_type</th>\n",
       "      <th>building_use</th>\n",
       "      <th>building_complete_dt</th>\n",
       "      <th>parking_way</th>\n",
       "      <th>parking_area</th>\n",
       "      <th>...</th>\n",
       "      <th>XIV_250</th>\n",
       "      <th>XIV_500</th>\n",
       "      <th>XIV_index_500</th>\n",
       "      <th>XIV_1000</th>\n",
       "      <th>XIV_index_1000</th>\n",
       "      <th>XIV_5000</th>\n",
       "      <th>XIV_index_5000</th>\n",
       "      <th>XIV_10000</th>\n",
       "      <th>XIV_index_10000</th>\n",
       "      <th>XIV_MIN</th>\n",
       "    </tr>\n",
       "  </thead>\n",
       "  <tbody>\n",
       "    <tr>\n",
       "      <th>0</th>\n",
       "      <td>X5gsdTWGS3W7JJQB</td>\n",
       "      <td>1</td>\n",
       "      <td>13</td>\n",
       "      <td>18634</td>\n",
       "      <td>2</td>\n",
       "      <td>4</td>\n",
       "      <td>2</td>\n",
       "      <td>1857</td>\n",
       "      <td>2</td>\n",
       "      <td>NaN</td>\n",
       "      <td>...</td>\n",
       "      <td>7</td>\n",
       "      <td>21</td>\n",
       "      <td>1</td>\n",
       "      <td>129</td>\n",
       "      <td>1</td>\n",
       "      <td>3991</td>\n",
       "      <td>1</td>\n",
       "      <td>8409</td>\n",
       "      <td>1</td>\n",
       "      <td>105.462231</td>\n",
       "    </tr>\n",
       "    <tr>\n",
       "      <th>1</th>\n",
       "      <td>BTshNOJyKHnT2YIT</td>\n",
       "      <td>8</td>\n",
       "      <td>7</td>\n",
       "      <td>20199</td>\n",
       "      <td>10</td>\n",
       "      <td>3</td>\n",
       "      <td>2</td>\n",
       "      <td>16011</td>\n",
       "      <td>2</td>\n",
       "      <td>NaN</td>\n",
       "      <td>...</td>\n",
       "      <td>18</td>\n",
       "      <td>44</td>\n",
       "      <td>1</td>\n",
       "      <td>67</td>\n",
       "      <td>1</td>\n",
       "      <td>1950</td>\n",
       "      <td>1</td>\n",
       "      <td>10725</td>\n",
       "      <td>1</td>\n",
       "      <td>100.819809</td>\n",
       "    </tr>\n",
       "    <tr>\n",
       "      <th>2</th>\n",
       "      <td>dhdymr0lV8N5kZOT</td>\n",
       "      <td>8</td>\n",
       "      <td>12</td>\n",
       "      <td>19769</td>\n",
       "      <td>4</td>\n",
       "      <td>4</td>\n",
       "      <td>10</td>\n",
       "      <td>18294</td>\n",
       "      <td>2</td>\n",
       "      <td>NaN</td>\n",
       "      <td>...</td>\n",
       "      <td>0</td>\n",
       "      <td>3</td>\n",
       "      <td>1</td>\n",
       "      <td>35</td>\n",
       "      <td>1</td>\n",
       "      <td>3707</td>\n",
       "      <td>1</td>\n",
       "      <td>19459</td>\n",
       "      <td>1</td>\n",
       "      <td>259.800543</td>\n",
       "    </tr>\n",
       "    <tr>\n",
       "      <th>3</th>\n",
       "      <td>VEwyGGMcD56w5BOc</td>\n",
       "      <td>10</td>\n",
       "      <td>7</td>\n",
       "      <td>20479</td>\n",
       "      <td>19</td>\n",
       "      <td>2</td>\n",
       "      <td>0</td>\n",
       "      <td>17837</td>\n",
       "      <td>2</td>\n",
       "      <td>NaN</td>\n",
       "      <td>...</td>\n",
       "      <td>16</td>\n",
       "      <td>60</td>\n",
       "      <td>1</td>\n",
       "      <td>144</td>\n",
       "      <td>1</td>\n",
       "      <td>6487</td>\n",
       "      <td>1</td>\n",
       "      <td>29400</td>\n",
       "      <td>1</td>\n",
       "      <td>22.941906</td>\n",
       "    </tr>\n",
       "    <tr>\n",
       "      <th>4</th>\n",
       "      <td>wmUeMoJZfsqaSX9b</td>\n",
       "      <td>8</td>\n",
       "      <td>3</td>\n",
       "      <td>18164</td>\n",
       "      <td>13</td>\n",
       "      <td>0</td>\n",
       "      <td>2</td>\n",
       "      <td>13272</td>\n",
       "      <td>2</td>\n",
       "      <td>NaN</td>\n",
       "      <td>...</td>\n",
       "      <td>4</td>\n",
       "      <td>18</td>\n",
       "      <td>1</td>\n",
       "      <td>76</td>\n",
       "      <td>1</td>\n",
       "      <td>1346</td>\n",
       "      <td>1</td>\n",
       "      <td>3280</td>\n",
       "      <td>1</td>\n",
       "      <td>181.213095</td>\n",
       "    </tr>\n",
       "  </tbody>\n",
       "</table>\n",
       "<p>5 rows × 234 columns</p>\n",
       "</div>"
      ],
      "text/plain": [
       "        building_id  building_material  city  txn_dt  total_floor  \\\n",
       "0  X5gsdTWGS3W7JJQB                  1    13   18634            2   \n",
       "1  BTshNOJyKHnT2YIT                  8     7   20199           10   \n",
       "2  dhdymr0lV8N5kZOT                  8    12   19769            4   \n",
       "3  VEwyGGMcD56w5BOc                 10     7   20479           19   \n",
       "4  wmUeMoJZfsqaSX9b                  8     3   18164           13   \n",
       "\n",
       "   building_type  building_use  building_complete_dt  parking_way  \\\n",
       "0              4             2                  1857            2   \n",
       "1              3             2                 16011            2   \n",
       "2              4            10                 18294            2   \n",
       "3              2             0                 17837            2   \n",
       "4              0             2                 13272            2   \n",
       "\n",
       "   parking_area     ...      XIV_250  XIV_500  XIV_index_500  XIV_1000  \\\n",
       "0           NaN     ...            7       21              1       129   \n",
       "1           NaN     ...           18       44              1        67   \n",
       "2           NaN     ...            0        3              1        35   \n",
       "3           NaN     ...           16       60              1       144   \n",
       "4           NaN     ...            4       18              1        76   \n",
       "\n",
       "   XIV_index_1000  XIV_5000  XIV_index_5000  XIV_10000  XIV_index_10000  \\\n",
       "0               1      3991               1       8409                1   \n",
       "1               1      1950               1      10725                1   \n",
       "2               1      3707               1      19459                1   \n",
       "3               1      6487               1      29400                1   \n",
       "4               1      1346               1       3280                1   \n",
       "\n",
       "      XIV_MIN  \n",
       "0  105.462231  \n",
       "1  100.819809  \n",
       "2  259.800543  \n",
       "3   22.941906  \n",
       "4  181.213095  \n",
       "\n",
       "[5 rows x 234 columns]"
      ]
     },
     "execution_count": 5,
     "metadata": {},
     "output_type": "execute_result"
    }
   ],
   "source": [
    "test = pd.read_csv('test.csv')\n",
    "test.head()"
   ]
  },
  {
   "cell_type": "markdown",
   "metadata": {},
   "source": [
    "# Merge feature data of both training and testing data set"
   ]
  },
  {
   "cell_type": "code",
   "execution_count": 6,
   "metadata": {},
   "outputs": [],
   "source": [
    "all_data = pd.concat((train.loc[:,'building_material':'village'],\n",
    "                      test.loc[:,'building_material':'village']))"
   ]
  },
  {
   "cell_type": "code",
   "execution_count": 7,
   "metadata": {},
   "outputs": [
    {
     "data": {
      "text/html": [
       "<div>\n",
       "<style scoped>\n",
       "    .dataframe tbody tr th:only-of-type {\n",
       "        vertical-align: middle;\n",
       "    }\n",
       "\n",
       "    .dataframe tbody tr th {\n",
       "        vertical-align: top;\n",
       "    }\n",
       "\n",
       "    .dataframe thead th {\n",
       "        text-align: right;\n",
       "    }\n",
       "</style>\n",
       "<table border=\"1\" class=\"dataframe\">\n",
       "  <thead>\n",
       "    <tr style=\"text-align: right;\">\n",
       "      <th></th>\n",
       "      <th>building_material</th>\n",
       "      <th>city</th>\n",
       "      <th>txn_dt</th>\n",
       "      <th>total_floor</th>\n",
       "      <th>building_type</th>\n",
       "      <th>building_use</th>\n",
       "      <th>building_complete_dt</th>\n",
       "      <th>parking_way</th>\n",
       "      <th>parking_area</th>\n",
       "      <th>parking_price</th>\n",
       "      <th>...</th>\n",
       "      <th>bachelor_rate</th>\n",
       "      <th>jobschool_rate</th>\n",
       "      <th>highschool_rate</th>\n",
       "      <th>junior_rate</th>\n",
       "      <th>elementary_rate</th>\n",
       "      <th>born_rate</th>\n",
       "      <th>death_rate</th>\n",
       "      <th>marriage_rate</th>\n",
       "      <th>divorce_rate</th>\n",
       "      <th>village</th>\n",
       "    </tr>\n",
       "  </thead>\n",
       "  <tbody>\n",
       "    <tr>\n",
       "      <th>0</th>\n",
       "      <td>8</td>\n",
       "      <td>21</td>\n",
       "      <td>18674</td>\n",
       "      <td>4</td>\n",
       "      <td>3</td>\n",
       "      <td>2</td>\n",
       "      <td>6271</td>\n",
       "      <td>2</td>\n",
       "      <td>NaN</td>\n",
       "      <td>NaN</td>\n",
       "      <td>...</td>\n",
       "      <td>0.208219</td>\n",
       "      <td>0.102360</td>\n",
       "      <td>0.327584</td>\n",
       "      <td>0.166931</td>\n",
       "      <td>0.143015</td>\n",
       "      <td>7.37</td>\n",
       "      <td>7.72</td>\n",
       "      <td>5.74</td>\n",
       "      <td>2.39</td>\n",
       "      <td>3132</td>\n",
       "    </tr>\n",
       "    <tr>\n",
       "      <th>1</th>\n",
       "      <td>8</td>\n",
       "      <td>7</td>\n",
       "      <td>18800</td>\n",
       "      <td>5</td>\n",
       "      <td>1</td>\n",
       "      <td>2</td>\n",
       "      <td>7885</td>\n",
       "      <td>2</td>\n",
       "      <td>NaN</td>\n",
       "      <td>NaN</td>\n",
       "      <td>...</td>\n",
       "      <td>0.216042</td>\n",
       "      <td>0.106792</td>\n",
       "      <td>0.310975</td>\n",
       "      <td>0.195193</td>\n",
       "      <td>0.118700</td>\n",
       "      <td>7.94</td>\n",
       "      <td>5.93</td>\n",
       "      <td>6.11</td>\n",
       "      <td>2.50</td>\n",
       "      <td>921</td>\n",
       "    </tr>\n",
       "    <tr>\n",
       "      <th>2</th>\n",
       "      <td>8</td>\n",
       "      <td>7</td>\n",
       "      <td>19289</td>\n",
       "      <td>4</td>\n",
       "      <td>1</td>\n",
       "      <td>2</td>\n",
       "      <td>6028</td>\n",
       "      <td>2</td>\n",
       "      <td>NaN</td>\n",
       "      <td>NaN</td>\n",
       "      <td>...</td>\n",
       "      <td>0.216042</td>\n",
       "      <td>0.106792</td>\n",
       "      <td>0.310975</td>\n",
       "      <td>0.195193</td>\n",
       "      <td>0.118700</td>\n",
       "      <td>7.94</td>\n",
       "      <td>5.93</td>\n",
       "      <td>6.11</td>\n",
       "      <td>2.50</td>\n",
       "      <td>1544</td>\n",
       "    </tr>\n",
       "    <tr>\n",
       "      <th>3</th>\n",
       "      <td>8</td>\n",
       "      <td>21</td>\n",
       "      <td>20385</td>\n",
       "      <td>24</td>\n",
       "      <td>0</td>\n",
       "      <td>2</td>\n",
       "      <td>18325</td>\n",
       "      <td>0</td>\n",
       "      <td>NaN</td>\n",
       "      <td>81138.889762</td>\n",
       "      <td>...</td>\n",
       "      <td>0.208219</td>\n",
       "      <td>0.102360</td>\n",
       "      <td>0.327584</td>\n",
       "      <td>0.166931</td>\n",
       "      <td>0.143015</td>\n",
       "      <td>7.37</td>\n",
       "      <td>7.72</td>\n",
       "      <td>5.74</td>\n",
       "      <td>2.39</td>\n",
       "      <td>3350</td>\n",
       "    </tr>\n",
       "    <tr>\n",
       "      <th>4</th>\n",
       "      <td>1</td>\n",
       "      <td>21</td>\n",
       "      <td>20657</td>\n",
       "      <td>2</td>\n",
       "      <td>4</td>\n",
       "      <td>2</td>\n",
       "      <td>6880</td>\n",
       "      <td>2</td>\n",
       "      <td>NaN</td>\n",
       "      <td>NaN</td>\n",
       "      <td>...</td>\n",
       "      <td>0.208219</td>\n",
       "      <td>0.102360</td>\n",
       "      <td>0.327584</td>\n",
       "      <td>0.166931</td>\n",
       "      <td>0.143015</td>\n",
       "      <td>7.37</td>\n",
       "      <td>7.72</td>\n",
       "      <td>5.74</td>\n",
       "      <td>2.39</td>\n",
       "      <td>63</td>\n",
       "    </tr>\n",
       "  </tbody>\n",
       "</table>\n",
       "<p>5 rows × 32 columns</p>\n",
       "</div>"
      ],
      "text/plain": [
       "   building_material  city  txn_dt  total_floor  building_type  building_use  \\\n",
       "0                  8    21   18674            4              3             2   \n",
       "1                  8     7   18800            5              1             2   \n",
       "2                  8     7   19289            4              1             2   \n",
       "3                  8    21   20385           24              0             2   \n",
       "4                  1    21   20657            2              4             2   \n",
       "\n",
       "   building_complete_dt  parking_way  parking_area  parking_price   ...     \\\n",
       "0                  6271            2           NaN            NaN   ...      \n",
       "1                  7885            2           NaN            NaN   ...      \n",
       "2                  6028            2           NaN            NaN   ...      \n",
       "3                 18325            0           NaN   81138.889762   ...      \n",
       "4                  6880            2           NaN            NaN   ...      \n",
       "\n",
       "   bachelor_rate  jobschool_rate  highschool_rate  junior_rate  \\\n",
       "0       0.208219        0.102360         0.327584     0.166931   \n",
       "1       0.216042        0.106792         0.310975     0.195193   \n",
       "2       0.216042        0.106792         0.310975     0.195193   \n",
       "3       0.208219        0.102360         0.327584     0.166931   \n",
       "4       0.208219        0.102360         0.327584     0.166931   \n",
       "\n",
       "   elementary_rate  born_rate  death_rate  marriage_rate  divorce_rate  \\\n",
       "0         0.143015       7.37        7.72           5.74          2.39   \n",
       "1         0.118700       7.94        5.93           6.11          2.50   \n",
       "2         0.118700       7.94        5.93           6.11          2.50   \n",
       "3         0.143015       7.37        7.72           5.74          2.39   \n",
       "4         0.143015       7.37        7.72           5.74          2.39   \n",
       "\n",
       "   village  \n",
       "0     3132  \n",
       "1      921  \n",
       "2     1544  \n",
       "3     3350  \n",
       "4       63  \n",
       "\n",
       "[5 rows x 32 columns]"
      ]
     },
     "execution_count": 7,
     "metadata": {},
     "output_type": "execute_result"
    }
   ],
   "source": [
    "all_data.head()"
   ]
  },
  {
   "cell_type": "markdown",
   "metadata": {},
   "source": [
    "# Check the assumption of data: the one with parking_area value must have the value of parking_price"
   ]
  },
  {
   "cell_type": "code",
   "execution_count": 8,
   "metadata": {},
   "outputs": [
    {
     "data": {
      "text/html": [
       "<div>\n",
       "<style scoped>\n",
       "    .dataframe tbody tr th:only-of-type {\n",
       "        vertical-align: middle;\n",
       "    }\n",
       "\n",
       "    .dataframe tbody tr th {\n",
       "        vertical-align: top;\n",
       "    }\n",
       "\n",
       "    .dataframe thead th {\n",
       "        text-align: right;\n",
       "    }\n",
       "</style>\n",
       "<table border=\"1\" class=\"dataframe\">\n",
       "  <thead>\n",
       "    <tr style=\"text-align: right;\">\n",
       "      <th></th>\n",
       "      <th>building_material</th>\n",
       "      <th>city</th>\n",
       "      <th>txn_dt</th>\n",
       "      <th>total_floor</th>\n",
       "      <th>building_type</th>\n",
       "      <th>building_use</th>\n",
       "      <th>building_complete_dt</th>\n",
       "      <th>parking_way</th>\n",
       "      <th>parking_area</th>\n",
       "      <th>parking_price</th>\n",
       "      <th>...</th>\n",
       "      <th>bachelor_rate</th>\n",
       "      <th>jobschool_rate</th>\n",
       "      <th>highschool_rate</th>\n",
       "      <th>junior_rate</th>\n",
       "      <th>elementary_rate</th>\n",
       "      <th>born_rate</th>\n",
       "      <th>death_rate</th>\n",
       "      <th>marriage_rate</th>\n",
       "      <th>divorce_rate</th>\n",
       "      <th>village</th>\n",
       "    </tr>\n",
       "  </thead>\n",
       "  <tbody>\n",
       "  </tbody>\n",
       "</table>\n",
       "<p>0 rows × 32 columns</p>\n",
       "</div>"
      ],
      "text/plain": [
       "Empty DataFrame\n",
       "Columns: [building_material, city, txn_dt, total_floor, building_type, building_use, building_complete_dt, parking_way, parking_area, parking_price, txn_floor, land_area, building_area, town, lat, lon, village_income_median, town_population, town_area, town_population_density, doc_rate, master_rate, bachelor_rate, jobschool_rate, highschool_rate, junior_rate, elementary_rate, born_rate, death_rate, marriage_rate, divorce_rate, village]\n",
       "Index: []\n",
       "\n",
       "[0 rows x 32 columns]"
      ]
     },
     "execution_count": 8,
     "metadata": {},
     "output_type": "execute_result"
    }
   ],
   "source": [
    "df1 = all_data[all_data['parking_area'].notnull()]\n",
    "df1[df1['parking_price'].isnull()]"
   ]
  },
  {
   "cell_type": "markdown",
   "metadata": {},
   "source": [
    "### * The item that has parking_area also has parking price in the current data set *"
   ]
  },
  {
   "cell_type": "markdown",
   "metadata": {},
   "source": [
    "# Explore building_material"
   ]
  },
  {
   "cell_type": "code",
   "execution_count": 9,
   "metadata": {},
   "outputs": [
    {
     "data": {
      "text/plain": [
       "<matplotlib.axes._subplots.AxesSubplot at 0x7fdfc1f507f0>"
      ]
     },
     "execution_count": 9,
     "metadata": {},
     "output_type": "execute_result"
    },
    {
     "data": {
      "image/png": "[encoded data removed]",
      "text/plain": [
       "<Figure size 432x288 with 1 Axes>"
      ]
     },
     "metadata": {},
     "output_type": "display_data"
    }
   ],
   "source": [
    "df2 = all_data['building_material']\n",
    "df2.hist()"
   ]
  },
  {
   "cell_type": "code",
   "execution_count": 10,
   "metadata": {},
   "outputs": [],
   "source": [
    "# bm_dict = {}\n",
    "# for i in range(df2.min(),df2.max() + 1):\n",
    "#     bm_dict[i]=0\n",
    "# for itm in df2.values:\n",
    "#     bm_dict[itm] += 1\n",
    "# bm_dict"
   ]
  },
  {
   "cell_type": "markdown",
   "metadata": {},
   "source": [
    "## type 2 and 6 never show in this dataset"
   ]
  },
  {
   "cell_type": "markdown",
   "metadata": {},
   "source": [
    "# Correlation Analysis"
   ]
  },
  {
   "cell_type": "code",
   "execution_count": 11,
   "metadata": {},
   "outputs": [],
   "source": [
    "data = train.copy()\n",
    "data['parking_area'].fillna(0, inplace=True)\n",
    "data['parking_price'].fillna(0, inplace=True)\n",
    "features = data.loc[:,'building_material':'XIV_MIN'].columns.tolist()\n",
    "target = 'total_price'"
   ]
  },
  {
   "cell_type": "code",
   "execution_count": 12,
   "metadata": {},
   "outputs": [
    {
     "name": "stderr",
     "output_type": "stream",
     "text": [
      "/opt/conda/lib/python3.6/site-packages/scipy/stats/stats.py:3010: RuntimeWarning: invalid value encountered in double_scalars\n",
      "  r = r_num / r_den\n"
     ]
    }
   ],
   "source": [
    "from scipy.stats import pearsonr\n",
    "\n",
    "correlations = {}\n",
    "for f in features:\n",
    "    data_temp = data[[f,target]]\n",
    "    x1 = data_temp[f].values\n",
    "    x2 = data_temp[target].values\n",
    "    key = f + ' vs ' + target\n",
    "    correlations[key] = pearsonr(x1,x2)[0]"
   ]
  },
  {
   "cell_type": "code",
   "execution_count": 13,
   "metadata": {},
   "outputs": [
    {
     "data": {
      "text/html": [
       "<div>\n",
       "<style scoped>\n",
       "    .dataframe tbody tr th:only-of-type {\n",
       "        vertical-align: middle;\n",
       "    }\n",
       "\n",
       "    .dataframe tbody tr th {\n",
       "        vertical-align: top;\n",
       "    }\n",
       "\n",
       "    .dataframe thead th {\n",
       "        text-align: right;\n",
       "    }\n",
       "</style>\n",
       "<table border=\"1\" class=\"dataframe\">\n",
       "  <thead>\n",
       "    <tr style=\"text-align: right;\">\n",
       "      <th></th>\n",
       "      <th>Value</th>\n",
       "    </tr>\n",
       "  </thead>\n",
       "  <tbody>\n",
       "    <tr>\n",
       "      <th>building_area vs total_price</th>\n",
       "      <td>0.459167</td>\n",
       "    </tr>\n",
       "    <tr>\n",
       "      <th>land_area vs total_price</th>\n",
       "      <td>0.313409</td>\n",
       "    </tr>\n",
       "    <tr>\n",
       "      <th>parking_price vs total_price</th>\n",
       "      <td>0.251772</td>\n",
       "    </tr>\n",
       "    <tr>\n",
       "      <th>master_rate vs total_price</th>\n",
       "      <td>0.168603</td>\n",
       "    </tr>\n",
       "    <tr>\n",
       "      <th>bachelor_rate vs total_price</th>\n",
       "      <td>0.168585</td>\n",
       "    </tr>\n",
       "    <tr>\n",
       "      <th>doc_rate vs total_price</th>\n",
       "      <td>0.165599</td>\n",
       "    </tr>\n",
       "    <tr>\n",
       "      <th>highschool_rate vs total_price</th>\n",
       "      <td>-0.164966</td>\n",
       "    </tr>\n",
       "    <tr>\n",
       "      <th>XIII_5000 vs total_price</th>\n",
       "      <td>0.161861</td>\n",
       "    </tr>\n",
       "    <tr>\n",
       "      <th>jobschool_rate vs total_price</th>\n",
       "      <td>0.150532</td>\n",
       "    </tr>\n",
       "    <tr>\n",
       "      <th>junior_rate vs total_price</th>\n",
       "      <td>-0.147248</td>\n",
       "    </tr>\n",
       "  </tbody>\n",
       "</table>\n",
       "</div>"
      ],
      "text/plain": [
       "                                   Value\n",
       "building_area vs total_price    0.459167\n",
       "land_area vs total_price        0.313409\n",
       "parking_price vs total_price    0.251772\n",
       "master_rate vs total_price      0.168603\n",
       "bachelor_rate vs total_price    0.168585\n",
       "doc_rate vs total_price         0.165599\n",
       "highschool_rate vs total_price -0.164966\n",
       "XIII_5000 vs total_price        0.161861\n",
       "jobschool_rate vs total_price   0.150532\n",
       "junior_rate vs total_price     -0.147248"
      ]
     },
     "execution_count": 13,
     "metadata": {},
     "output_type": "execute_result"
    }
   ],
   "source": [
    "data_correlations = pd.DataFrame(correlations, index=['Value']).T\n",
    "data_correlations.loc[data_correlations['Value'].abs().sort_values(ascending=False).index][:10]"
   ]
  },
  {
   "cell_type": "markdown",
   "metadata": {},
   "source": [
    "# Explore relation between total_floor and total_price"
   ]
  },
  {
   "cell_type": "code",
   "execution_count": 14,
   "metadata": {},
   "outputs": [
    {
     "data": {
      "text/plain": [
       "<matplotlib.collections.PathCollection at 0x7fdfc1dcb550>"
      ]
     },
     "execution_count": 14,
     "metadata": {},
     "output_type": "execute_result"
    },
    {
     "data": {
      "image/png": "[encoded data removed]",
      "text/plain": [
       "<Figure size 432x288 with 1 Axes>"
      ]
     },
     "metadata": {},
     "output_type": "display_data"
    }
   ],
   "source": [
    "df3 = train[['total_floor','total_price']]\n",
    "plt.ylim(0, 4e8)\n",
    "plt.scatter(x=df3['total_floor'],y=df3['total_price'],alpha = 0.01)"
   ]
  },
  {
   "cell_type": "code",
   "execution_count": 15,
   "metadata": {},
   "outputs": [
    {
     "data": {
      "text/plain": [
       "Value    0.044604\n",
       "Name: total_floor vs total_price, dtype: float64"
      ]
     },
     "execution_count": 15,
     "metadata": {},
     "output_type": "execute_result"
    }
   ],
   "source": [
    "data_correlations.loc['total_floor vs total_price']"
   ]
  },
  {
   "cell_type": "code",
   "execution_count": 16,
   "metadata": {},
   "outputs": [
    {
     "data": {
      "text/plain": [
       "Value   NaN\n",
       "Name: txn_floor vs total_price, dtype: float64"
      ]
     },
     "execution_count": 16,
     "metadata": {},
     "output_type": "execute_result"
    }
   ],
   "source": [
    "data_correlations.loc['txn_floor vs total_price']"
   ]
  },
  {
   "cell_type": "markdown",
   "metadata": {},
   "source": [
    "## maybe should treat total_floor as category"
   ]
  },
  {
   "cell_type": "markdown",
   "metadata": {},
   "source": [
    "# Find all columns that have missing values"
   ]
  },
  {
   "cell_type": "code",
   "execution_count": 17,
   "metadata": {},
   "outputs": [
    {
     "data": {
      "text/plain": [
       "Index(['parking_area', 'parking_price', 'txn_floor', 'village_income_median'], dtype='object')"
      ]
     },
     "execution_count": 17,
     "metadata": {},
     "output_type": "execute_result"
    }
   ],
   "source": [
    "all_data.columns[all_data.isna().any()]"
   ]
  },
  {
   "cell_type": "code",
   "execution_count": 18,
   "metadata": {},
   "outputs": [
    {
     "data": {
      "text/plain": [
       "(70000, 32)"
      ]
     },
     "execution_count": 18,
     "metadata": {},
     "output_type": "execute_result"
    }
   ],
   "source": [
    "all_data.shape"
   ]
  },
  {
   "cell_type": "markdown",
   "metadata": {},
   "source": [
    "# Fill missing values for txn_floor with mode value"
   ]
  },
  {
   "cell_type": "code",
   "execution_count": 19,
   "metadata": {},
   "outputs": [
    {
     "data": {
      "text/plain": [
       "0    4.0\n",
       "dtype: float64"
      ]
     },
     "execution_count": 19,
     "metadata": {},
     "output_type": "execute_result"
    }
   ],
   "source": [
    "all_data['txn_floor'].mode()"
   ]
  },
  {
   "cell_type": "code",
   "execution_count": 20,
   "metadata": {},
   "outputs": [],
   "source": [
    "all_data['txn_floor'].fillna(all_data['txn_floor'].mode()[0], inplace=True)"
   ]
  },
  {
   "cell_type": "markdown",
   "metadata": {},
   "source": [
    "# Explore village_income_median"
   ]
  },
  {
   "cell_type": "code",
   "execution_count": 21,
   "metadata": {},
   "outputs": [],
   "source": [
    "# all_data[all_data['village_income_median'].isnull()][['village']]"
   ]
  },
  {
   "cell_type": "code",
   "execution_count": 22,
   "metadata": {},
   "outputs": [],
   "source": [
    "# all_data[all_data['village'] == 1131][['town']]"
   ]
  },
  {
   "cell_type": "code",
   "execution_count": 23,
   "metadata": {},
   "outputs": [],
   "source": [
    "# all_data[all_data['town'] == 84][['village_income_median']]"
   ]
  },
  {
   "cell_type": "code",
   "execution_count": 24,
   "metadata": {},
   "outputs": [
    {
     "name": "stderr",
     "output_type": "stream",
     "text": [
      "/opt/conda/lib/python3.6/site-packages/ipykernel_launcher.py:4: RuntimeWarning: invalid value encountered in greater\n",
      "  after removing the cwd from sys.path.\n"
     ]
    },
    {
     "data": {
      "text/plain": [
       "array([0.22064696, 0.2016842 , 0.21100746, 0.20676009, 0.30560652,\n",
       "       0.20629473])"
      ]
     },
     "execution_count": 24,
     "metadata": {},
     "output_type": "execute_result"
    }
   ],
   "source": [
    "std = all_data.groupby('town', as_index=False)['village_income_median'].std().values\n",
    "mean = all_data.groupby('town', as_index=False)['village_income_median'].mean().values\n",
    "std_percent = std[:,1]/mean[:,1]\n",
    "std_percent[std_percent > 0.2]"
   ]
  },
  {
   "cell_type": "markdown",
   "metadata": {},
   "source": [
    "### -->Conclusion: ignore column 'village_income_median'"
   ]
  },
  {
   "cell_type": "markdown",
   "metadata": {},
   "source": [
    "# Explore the distribution of total_price"
   ]
  },
  {
   "cell_type": "code",
   "execution_count": 25,
   "metadata": {},
   "outputs": [
    {
     "data": {
      "image/png": "[encoded data removed]",
      "text/plain": [
       "<Figure size 864x432 with 2 Axes>"
      ]
     },
     "metadata": {},
     "output_type": "display_data"
    }
   ],
   "source": [
    "mpl.rcParams['figure.figsize'] = (12.0, 6.0)\n",
    "prices = pd.DataFrame({\"price\":train[\"total_price\"], \"log(price + 1)\":np.log1p(train[\"total_price\"])})\n",
    "axes = prices.hist()"
   ]
  },
  {
   "cell_type": "markdown",
   "metadata": {},
   "source": [
    "# Explore the distribution of building_area"
   ]
  },
  {
   "cell_type": "code",
   "execution_count": 26,
   "metadata": {},
   "outputs": [],
   "source": [
    "price_lim = 1e9\n",
    "area_lim = 1000"
   ]
  },
  {
   "cell_type": "code",
   "execution_count": 27,
   "metadata": {},
   "outputs": [
    {
     "data": {
      "text/plain": [
       "(0, 1000000000.0)"
      ]
     },
     "execution_count": 27,
     "metadata": {},
     "output_type": "execute_result"
    },
    {
     "data": {
      "image/png": "[encoded data removed]",
      "text/plain": [
       "<Figure size 1152x576 with 2 Axes>"
      ]
     },
     "metadata": {},
     "output_type": "display_data"
    }
   ],
   "source": [
    "fig = plt.figure(figsize=(16,8))\n",
    "ax = fig.add_subplot(121)\n",
    "ax.scatter(train['building_area'],train['total_price'])\n",
    "\n",
    "\n",
    "\n",
    "ax1 = fig.add_subplot(122)\n",
    "ax1.scatter(train['building_area'],train['total_price'])\n",
    "\n",
    "ax1.set_xlim([0,area_lim])\n",
    "ax1.set_ylim([0,price_lim])"
   ]
  },
  {
   "cell_type": "code",
   "execution_count": 28,
   "metadata": {},
   "outputs": [
    {
     "data": {
      "text/plain": [
       "(59963, 60000)"
      ]
     },
     "execution_count": 28,
     "metadata": {},
     "output_type": "execute_result"
    }
   ],
   "source": [
    "train.loc[(train['total_price'] < price_lim) & (train['building_area'] < area_lim)].shape[0],train.shape[0]"
   ]
  },
  {
   "cell_type": "code",
   "execution_count": 29,
   "metadata": {},
   "outputs": [],
   "source": [
    "p_train = train.loc[(train['total_price'] < price_lim) & (train['building_area'] < area_lim)]"
   ]
  },
  {
   "cell_type": "code",
   "execution_count": 30,
   "metadata": {},
   "outputs": [
    {
     "data": {
      "image/png": "[encoded data removed]",
      "text/plain": [
       "<Figure size 1152x576 with 2 Axes>"
      ]
     },
     "metadata": {},
     "output_type": "display_data"
    }
   ],
   "source": [
    "fig = plt.figure(figsize=(16,8))\n",
    "ax1 = fig.add_subplot(121)\n",
    "ax1.hist(p_train[\"building_area\"])\n",
    "ax1.title.set_text('building_area')\n",
    "\n",
    "ax2 = fig.add_subplot(122)\n",
    "ax2.hist(np.log1p(p_train[\"building_area\"]))\n",
    "ax2.title.set_text('log(building_area+1)')\n"
   ]
  },
  {
   "cell_type": "markdown",
   "metadata": {},
   "source": [
    "# Show skewness of numeric features"
   ]
  },
  {
   "cell_type": "code",
   "execution_count": 31,
   "metadata": {},
   "outputs": [
    {
     "data": {
      "text/plain": [
       "total_floor                 1.104637\n",
       "building_use                3.581729\n",
       "parking_area               40.411997\n",
       "parking_price               3.761163\n",
       "txn_floor                   1.808235\n",
       "land_area                  42.577276\n",
       "building_area              82.105684\n",
       "village_income_median       2.804583\n",
       "town_area                   1.987026\n",
       "town_population_density     0.767788\n",
       "doc_rate                    1.494323\n",
       "master_rate                 1.434175\n",
       "bachelor_rate               1.220866\n",
       "elementary_rate             0.850178\n",
       "death_rate                  1.547331\n",
       "dtype: float64"
      ]
     },
     "execution_count": 31,
     "metadata": {},
     "output_type": "execute_result"
    }
   ],
   "source": [
    "#log transform skewed numeric features:\n",
    "numeric_feats = all_data.dtypes[all_data.dtypes != \"object\"].index\n",
    "skewed_feats = all_data[numeric_feats].apply(lambda x: skew(x.dropna()))\n",
    "skewed_feats = skewed_feats[skewed_feats > 0.75]\n",
    "# skewed_feats = skewed_feats.index\n",
    "skewed_feats"
   ]
  },
  {
   "cell_type": "code",
   "execution_count": 32,
   "metadata": {},
   "outputs": [
    {
     "data": {
      "text/html": [
       "<div>\n",
       "<style scoped>\n",
       "    .dataframe tbody tr th:only-of-type {\n",
       "        vertical-align: middle;\n",
       "    }\n",
       "\n",
       "    .dataframe tbody tr th {\n",
       "        vertical-align: top;\n",
       "    }\n",
       "\n",
       "    .dataframe thead th {\n",
       "        text-align: right;\n",
       "    }\n",
       "</style>\n",
       "<table border=\"1\" class=\"dataframe\">\n",
       "  <thead>\n",
       "    <tr style=\"text-align: right;\">\n",
       "      <th></th>\n",
       "      <th>parking_area</th>\n",
       "    </tr>\n",
       "  </thead>\n",
       "  <tbody>\n",
       "    <tr>\n",
       "      <th>53</th>\n",
       "      <td>7.180619</td>\n",
       "    </tr>\n",
       "    <tr>\n",
       "      <th>55</th>\n",
       "      <td>3.101806</td>\n",
       "    </tr>\n",
       "    <tr>\n",
       "      <th>57</th>\n",
       "      <td>7.180619</td>\n",
       "    </tr>\n",
       "    <tr>\n",
       "      <th>104</th>\n",
       "      <td>20.904384</td>\n",
       "    </tr>\n",
       "    <tr>\n",
       "      <th>124</th>\n",
       "      <td>4.394560</td>\n",
       "    </tr>\n",
       "    <tr>\n",
       "      <th>130</th>\n",
       "      <td>7.911500</td>\n",
       "    </tr>\n",
       "    <tr>\n",
       "      <th>153</th>\n",
       "      <td>4.394560</td>\n",
       "    </tr>\n",
       "    <tr>\n",
       "      <th>164</th>\n",
       "      <td>7.180619</td>\n",
       "    </tr>\n",
       "    <tr>\n",
       "      <th>189</th>\n",
       "      <td>5.758023</td>\n",
       "    </tr>\n",
       "    <tr>\n",
       "      <th>196</th>\n",
       "      <td>4.394560</td>\n",
       "    </tr>\n",
       "  </tbody>\n",
       "</table>\n",
       "</div>"
      ],
      "text/plain": [
       "     parking_area\n",
       "53       7.180619\n",
       "55       3.101806\n",
       "57       7.180619\n",
       "104     20.904384\n",
       "124      4.394560\n",
       "130      7.911500\n",
       "153      4.394560\n",
       "164      7.180619\n",
       "189      5.758023\n",
       "196      4.394560"
      ]
     },
     "execution_count": 32,
     "metadata": {},
     "output_type": "execute_result"
    }
   ],
   "source": [
    "all_data[all_data['parking_area'] > 0][['parking_area']][:10]"
   ]
  },
  {
   "cell_type": "code",
   "execution_count": 33,
   "metadata": {},
   "outputs": [
    {
     "name": "stdout",
     "output_type": "stream",
     "text": [
      "parking_area is 0: 95%\n"
     ]
    }
   ],
   "source": [
    "# percentage of zeros in a feature\n",
    "all_data['parking_area'].fillna(0, inplace=True)\n",
    "print('parking_area is 0: {:02.0f}%'.format(all_data[all_data['parking_area'] == 0].shape[0] / all_data.shape[0] * 100.0))"
   ]
  },
  {
   "cell_type": "code",
   "execution_count": 34,
   "metadata": {},
   "outputs": [],
   "source": [
    "# x_lim = 20\n",
    "# y_lim = 4e8"
   ]
  },
  {
   "cell_type": "code",
   "execution_count": 35,
   "metadata": {},
   "outputs": [],
   "source": [
    "# fig = plt.figure(figsize=(16,8))\n",
    "# ax = fig.add_subplot(121)\n",
    "# ax.scatter(train['parking_area'],train['total_price'])\n",
    "\n",
    "# ax1 = fig.add_subplot(122)\n",
    "# ax1.scatter(train['parking_area'],train['total_price'])\n",
    "\n",
    "# ax1.set_xlim([0,x_lim])\n",
    "# ax1.set_ylim([0,y_lim])"
   ]
  },
  {
   "cell_type": "code",
   "execution_count": 36,
   "metadata": {},
   "outputs": [],
   "source": [
    "# all_data['parking_area'].fillna(0, inplace=True)\n",
    "# all_data['parking_price'].fillna(0, inplace=True)"
   ]
  },
  {
   "cell_type": "code",
   "execution_count": 37,
   "metadata": {},
   "outputs": [],
   "source": [
    "# all_data.loc[(all_data['parking_area'] < x_lim)].shape[0],all_data.shape[0]"
   ]
  },
  {
   "cell_type": "code",
   "execution_count": 38,
   "metadata": {},
   "outputs": [],
   "source": [
    "# p_all_data = all_data.loc[(all_data['parking_area'] < x_lim)]"
   ]
  },
  {
   "cell_type": "code",
   "execution_count": 39,
   "metadata": {},
   "outputs": [],
   "source": [
    "# fig = plt.figure(figsize=(16,8))\n",
    "# ax1 = fig.add_subplot(121)\n",
    "# ax1.hist(p_all_data[\"parking_area\"])\n",
    "\n",
    "# ax2 = fig.add_subplot(122)\n",
    "# ax2.hist(np.log1p(p_all_data[\"parking_area\"]))"
   ]
  },
  {
   "cell_type": "markdown",
   "metadata": {},
   "source": [
    "## dominated by zeros. drop the column 'parking_area'"
   ]
  },
  {
   "cell_type": "code",
   "execution_count": 40,
   "metadata": {},
   "outputs": [],
   "source": [
    "# train.head()"
   ]
  },
  {
   "cell_type": "markdown",
   "metadata": {},
   "source": [
    "# Explore the distribution of 'land_area'"
   ]
  },
  {
   "cell_type": "code",
   "execution_count": 41,
   "metadata": {},
   "outputs": [
    {
     "data": {
      "image/png": "[encoded data removed]",
      "text/plain": [
       "<Figure size 1152x576 with 2 Axes>"
      ]
     },
     "metadata": {},
     "output_type": "display_data"
    }
   ],
   "source": [
    "fig = plt.figure(figsize=(16,8))\n",
    "ax1 = fig.add_subplot(121)\n",
    "ax1.hist(train[\"land_area\"])\n",
    "ax1.title.set_text('land_area')\n",
    "\n",
    "ax2 = fig.add_subplot(122)\n",
    "ax2.hist(np.log1p(train[\"land_area\"]))\n",
    "ax2.title.set_text('log(land_area+1)')"
   ]
  }
 ],
 "metadata": {
  "kernelspec": {
   "display_name": "Python 3",
   "language": "python",
   "name": "python3"
  },
  "language_info": {
   "codemirror_mode": {
    "name": "ipython",
    "version": 3
   },
   "file_extension": ".py",
   "mimetype": "text/x-python",
   "name": "python",
   "nbconvert_exporter": "python",
   "pygments_lexer": "ipython3",
   "version": "3.6.6"
  }
 },
 "nbformat": 4,
 "nbformat_minor": 2
}
